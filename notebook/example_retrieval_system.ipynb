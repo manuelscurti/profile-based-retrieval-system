{
 "cells": [
  {
   "cell_type": "markdown",
   "metadata": {},
   "source": [
    "<h1>Example Retrieval System</h1>"
   ]
  },
  {
   "cell_type": "code",
   "execution_count": 1,
   "metadata": {},
   "outputs": [
    {
     "name": "stderr",
     "output_type": "stream",
     "text": [
      "C:\\Users\\manue\\Anaconda3\\lib\\site-packages\\gensim\\utils.py:1197: UserWarning: detected Windows; aliasing chunkize to chunkize_serial\n",
      "  warnings.warn(\"detected Windows; aliasing chunkize to chunkize_serial\")\n"
     ]
    }
   ],
   "source": [
    "from nltk.tokenize import wordpunct_tokenize\n",
    "from nltk.corpus import stopwords\n",
    "from nltk.stem import PorterStemmer\n",
    "from gensim import corpora, models, similarities\n",
    "from operator import itemgetter"
   ]
  },
  {
   "cell_type": "markdown",
   "metadata": {},
   "source": [
    "Sample corpus used as example"
   ]
  },
  {
   "cell_type": "code",
   "execution_count": 2,
   "metadata": {},
   "outputs": [],
   "source": [
    "sample_corpus = [ \"Human machine interface for lab abc computer applications\",\n",
    "                 \"A survey of user opinion of computer system response time\",\n",
    "                 \"The EPS user interface management system\",\n",
    "                 \"System and human system engineering testing of EPS\",\n",
    "                 \"Relation of user perceived response time to error measurement\",\n",
    "                 \"The generation of random binary unordered trees\",\n",
    "                 \"The intersection graph of paths in trees\",\n",
    "                 \"Graph minors IV Widths of trees and well quasi ordering\",\n",
    "                 \"Graph minors A survey\" ]\n"
   ]
  },
  {
   "cell_type": "code",
   "execution_count": 3,
   "metadata": {},
   "outputs": [],
   "source": [
    "def preprocess_document(doc):\n",
    "\tstopset = set(stopwords.words('english'))\n",
    "\tstemmer = PorterStemmer()\n",
    "\ttokens = wordpunct_tokenize(doc)\n",
    "\tclean = [token.lower() for token in tokens if token.lower() not in stopset and len(token) > 2]\n",
    "\tfinal = [stemmer.stem(word) for word in clean]\n",
    "\treturn final"
   ]
  },
  {
   "cell_type": "code",
   "execution_count": 4,
   "metadata": {},
   "outputs": [],
   "source": [
    "def create_dictionary(docs):\n",
    "\tpdocs = [preprocess_document(doc) for doc in docs]\n",
    "\tdictionary = corpora.Dictionary(pdocs)\n",
    "\tdictionary.save('vsm.dict')\n",
    "\treturn dictionary"
   ]
  },
  {
   "cell_type": "code",
   "execution_count": 5,
   "metadata": {},
   "outputs": [],
   "source": [
    "def get_keyword_to_id_mapping(dictionary):\n",
    "\tprint(dictionary.token2id)"
   ]
  },
  {
   "cell_type": "code",
   "execution_count": 6,
   "metadata": {},
   "outputs": [],
   "source": [
    "def docs2bows(corpus, dictionary):\n",
    "\tdocs = [preprocess_document(d) for d in corpus]\n",
    "\tvectors = [dictionary.doc2bow(doc) for doc in docs]\n",
    "\tcorpora.MmCorpus.serialize('vsm_docs.mm', vectors)\n",
    "\treturn vectors"
   ]
  },
  {
   "cell_type": "code",
   "execution_count": 7,
   "metadata": {},
   "outputs": [],
   "source": [
    "def create_TF_IDF_model(corpus):\n",
    "\tdictionary = create_dictionary(corpus)\n",
    "\tdocs2bows(corpus, dictionary)\n",
    "\tloaded_corpus = corpora.MmCorpus('vsm_docs.mm')\n",
    "\ttfidf = models.TfidfModel(loaded_corpus)\n",
    "\treturn tfidf, dictionary"
   ]
  },
  {
   "cell_type": "code",
   "execution_count": 8,
   "metadata": {},
   "outputs": [],
   "source": [
    "def launch_query(corpus, q):\n",
    "\ttfidf, dictionary = create_TF_IDF_model(corpus)\n",
    "\tloaded_corpus = corpora.MmCorpus('vsm_docs.mm')\n",
    "\tindex = similarities.MatrixSimilarity(loaded_corpus, num_features=len(dictionary))\n",
    "\tpq = preprocess_document(q)\n",
    "\tvq = dictionary.doc2bow(pq)\n",
    "\tqtfidf = tfidf[vq]\n",
    "\tsim = index[qtfidf]\n",
    "\tranking = sorted(enumerate(sim), key=itemgetter(1), reverse=True)\n",
    "\tfor doc, score in ranking:\n",
    "\t\tprint(\"[ Score = \" + \"%.3f\" % round(score,3) + \"] \" + corpus[doc]); "
   ]
  },
  {
   "cell_type": "code",
   "execution_count": 9,
   "metadata": {},
   "outputs": [
    {
     "name": "stdout",
     "output_type": "stream",
     "text": [
      "[ Score = 0.378] Human machine interface for lab abc computer applications\n",
      "[ Score = 0.354] System and human system engineering testing of EPS\n",
      "[ Score = 0.000] A survey of user opinion of computer system response time\n",
      "[ Score = 0.000] The EPS user interface management system\n",
      "[ Score = 0.000] Relation of user perceived response time to error measurement\n",
      "[ Score = 0.000] The generation of random binary unordered trees\n",
      "[ Score = 0.000] The intersection graph of paths in trees\n",
      "[ Score = 0.000] Graph minors IV Widths of trees and well quasi ordering\n",
      "[ Score = 0.000] Graph minors A survey\n"
     ]
    }
   ],
   "source": [
    "launch_query(sample_corpus, \"Human\")"
   ]
  },
  {
   "cell_type": "code",
   "execution_count": null,
   "metadata": {},
   "outputs": [],
   "source": []
  }
 ],
 "metadata": {
  "kernelspec": {
   "display_name": "Python 3",
   "language": "python",
   "name": "python3"
  },
  "language_info": {
   "codemirror_mode": {
    "name": "ipython",
    "version": 3
   },
   "file_extension": ".py",
   "mimetype": "text/x-python",
   "name": "python",
   "nbconvert_exporter": "python",
   "pygments_lexer": "ipython3",
   "version": "3.6.8"
  }
 },
 "nbformat": 4,
 "nbformat_minor": 2
}
