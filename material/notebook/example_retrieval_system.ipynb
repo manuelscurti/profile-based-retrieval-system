{
 "cells": [
  {
   "cell_type": "markdown",
   "metadata": {},
   "source": [
    "<h1>Example Retrieval System</h1>"
   ]
  },
  {
   "cell_type": "code",
   "execution_count": 1,
   "metadata": {},
   "outputs": [
    {
     "name": "stderr",
     "output_type": "stream",
     "text": [
      "C:\\Users\\manue\\Anaconda3\\lib\\site-packages\\gensim\\utils.py:1197: UserWarning: detected Windows; aliasing chunkize to chunkize_serial\n",
      "  warnings.warn(\"detected Windows; aliasing chunkize to chunkize_serial\")\n"
     ]
    }
   ],
   "source": [
    "from nltk.tokenize import wordpunct_tokenize\n",
    "from nltk.corpus import stopwords\n",
    "from nltk.stem import PorterStemmer\n",
    "from gensim import corpora, models, similarities\n",
    "from operator import itemgetter"
   ]
  },
  {
   "cell_type": "markdown",
   "metadata": {},
   "source": [
    "Sample corpus used as example"
   ]
  },
  {
   "cell_type": "code",
   "execution_count": 2,
   "metadata": {},
   "outputs": [],
   "source": [
    "sample_corpus = [ \"Human machine interface for lab abc computer applications\",\n",
    "                 \"A survey of user opinion of computer system response time\",\n",
    "                 \"The EPS user interface management system\",\n",
    "                 \"System and human system engineering testing of EPS\",\n",
    "                 \"Relation of user perceived response time to error measurement\",\n",
    "                 \"The generation of random binary unordered trees\",\n",
    "                 \"The intersection graph of paths in trees\",\n",
    "                 \"Graph minors IV Widths of trees and well quasi ordering\",\n",
    "                 \"Graph minors A survey\" ]\n"
   ]
  },
  {
   "cell_type": "code",
   "execution_count": 3,
   "metadata": {},
   "outputs": [],
   "source": [
    "def preprocess_document(doc):\n",
    "    stopset = set(stopwords.words('english'))\n",
    "    stemmer = PorterStemmer()\n",
    "    tokens = wordpunct_tokenize(doc)\n",
    "    clean = [token.lower() for token in tokens if token.lower() not in stopset and len(token) > 2]\n",
    "    final = [stemmer.stem(word) for word in clean]\n",
    "    return final"
   ]
  },
  {
   "cell_type": "code",
   "execution_count": 4,
   "metadata": {},
   "outputs": [
    {
     "data": {
      "text/plain": [
       "['human', 'machin', 'interfac', 'lab', 'abc', 'comput', 'applic']"
      ]
     },
     "execution_count": 4,
     "metadata": {},
     "output_type": "execute_result"
    }
   ],
   "source": [
    "preprocess_document(sample_corpus[0])"
   ]
  },
  {
   "cell_type": "code",
   "execution_count": 11,
   "metadata": {},
   "outputs": [],
   "source": [
    "def create_dictionary(docs):\n",
    "    pdocs = [preprocess_document(doc) for doc in docs]\n",
    "    #print(pdocs)\n",
    "    dictionary = corpora.Dictionary(pdocs)\n",
    "    dictionary.save('vsm.dict')\n",
    "    return dictionary"
   ]
  },
  {
   "cell_type": "code",
   "execution_count": 6,
   "metadata": {},
   "outputs": [],
   "source": [
    "def get_keyword_to_id_mapping(dictionary):\n",
    "    print(dictionary.token2id)"
   ]
  },
  {
   "cell_type": "code",
   "execution_count": 7,
   "metadata": {},
   "outputs": [],
   "source": [
    "def docs2bows(corpus, dictionary):\n",
    "    docs = [preprocess_document(d) for d in corpus]\n",
    "    vectors = [dictionary.doc2bow(doc) for doc in docs]\n",
    "    corpora.MmCorpus.serialize('vsm_docs.mm', vectors)\n",
    "    return vectors"
   ]
  },
  {
   "cell_type": "code",
   "execution_count": 8,
   "metadata": {},
   "outputs": [],
   "source": [
    "def create_TF_IDF_model(corpus):\n",
    "    # should be already done previously\n",
    "    dictionary = create_dictionary(corpus)\n",
    "    docs2bows(corpus, dictionary) # already done\n",
    "    \n",
    "    # here comes the load of saved data\n",
    "    loaded_corpus = corpora.MmCorpus('vsm_docs.mm')\n",
    "    tfidf = models.TfidfModel(loaded_corpus)\n",
    "    return tfidf, dictionary"
   ]
  },
  {
   "cell_type": "code",
   "execution_count": 16,
   "metadata": {},
   "outputs": [],
   "source": [
    "def launch_query(corpus, q):\n",
    "    # should be already done previously\n",
    "    tfidf, dictionary = create_TF_IDF_model(corpus)\n",
    "    loaded_corpus = corpora.MmCorpus('vsm_docs.mm')\n",
    "    print(loaded_corpus[0])\n",
    "    \n",
    "    # convert query to vector space\n",
    "    pq = preprocess_document(q)\n",
    "    vq = dictionary.doc2bow(pq)\n",
    "    \n",
    "    qtfidf = tfidf[vq]\n",
    "    \n",
    "    # process the query\n",
    "    index = similarities.MatrixSimilarity(loaded_corpus, num_features=len(dictionary))\n",
    "    sim = index[qtfidf]\n",
    "    \n",
    "    ranking = sorted(enumerate(sim), key=itemgetter(1), reverse=True)\n",
    "    for doc, score in ranking:\n",
    "        print(\"[ Score = \" + \"%.3f\" % round(score,3) + \"] \" + corpus[doc]); "
   ]
  },
  {
   "cell_type": "code",
   "execution_count": 17,
   "metadata": {},
   "outputs": [
    {
     "name": "stdout",
     "output_type": "stream",
     "text": [
      "[(0, 1.0), (1, 1.0), (2, 1.0), (3, 1.0), (4, 1.0), (5, 1.0), (6, 1.0)]\n",
      "[ Score = 0.643] Human machine interface for lab abc computer applications\n",
      "[ Score = 0.220] The EPS user interface management system\n",
      "[ Score = 0.174] System and human system engineering testing of EPS\n",
      "[ Score = 0.000] A survey of user opinion of computer system response time\n",
      "[ Score = 0.000] Relation of user perceived response time to error measurement\n",
      "[ Score = 0.000] The generation of random binary unordered trees\n",
      "[ Score = 0.000] The intersection graph of paths in trees\n",
      "[ Score = 0.000] Graph minors IV Widths of trees and well quasi ordering\n",
      "[ Score = 0.000] Graph minors A survey\n"
     ]
    }
   ],
   "source": [
    "launch_query(sample_corpus, \"Human machine interface\")"
   ]
  },
  {
   "cell_type": "code",
   "execution_count": null,
   "metadata": {},
   "outputs": [],
   "source": []
  }
 ],
 "metadata": {
  "kernelspec": {
   "display_name": "Python 3",
   "language": "python",
   "name": "python3"
  },
  "language_info": {
   "codemirror_mode": {
    "name": "ipython",
    "version": 3
   },
   "file_extension": ".py",
   "mimetype": "text/x-python",
   "name": "python",
   "nbconvert_exporter": "python",
   "pygments_lexer": "ipython3",
   "version": "3.6.8"
  }
 },
 "nbformat": 4,
 "nbformat_minor": 2
}
